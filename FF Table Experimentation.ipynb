{
 "cells": [
  {
   "cell_type": "markdown",
   "metadata": {},
   "source": [
    "# Table Creation\n",
    "Let's get some data into some SQL tables so we can use it."
   ]
  },
  {
   "cell_type": "code",
   "execution_count": 115,
   "metadata": {},
   "outputs": [],
   "source": [
    "# imports\n",
    "import pandas as pd\n",
    "import sqlite3 as sql\n",
    "\n",
    "import os\n",
    "import nflgame as nfl\n",
    "\n",
    "from collections import defaultdict"
   ]
  },
  {
   "cell_type": "code",
   "execution_count": 70,
   "metadata": {},
   "outputs": [],
   "source": [
    "con = sql.Connection(\"/Users/tstuessi/Dev/ff-analysis/fantasyfootball\")"
   ]
  },
  {
   "cell_type": "code",
   "execution_count": 64,
   "metadata": {},
   "outputs": [],
   "source": [
    "files = [\n",
    "    \"CBS_YEAR_2014\",\n",
    "    \"CBS_YEAR_2015\",\n",
    "    \"CBS_YEAR_2016\",\n",
    "    \"CBS_YEAR_2017\",\n",
    "    \"FLEAFLICKER_YEAR_2014\",\n",
    "    \"FLEAFLICKER_YEAR_2015\",\n",
    "    \"FLEAFLICKER_YEAR_2016\",\n",
    "    \"FLEAFLICKER_YEAR_2017\"\n",
    "]"
   ]
  },
  {
   "cell_type": "code",
   "execution_count": 85,
   "metadata": {},
   "outputs": [],
   "source": [
    "con = sql.Connection(\"/Users/tstuessi/Dev/ff-analysis/fantasyfootball.db\")\n",
    "for file in files:\n",
    "    df = pd.read_csv(\"{}.csv\".format(file), index_col=\"playerid\")\n",
    "    df[\"total\"] = df.sum(axis=1)\n",
    "    df.reset_index().to_sql(file, con, if_exists=\"replace\",index=False)\n",
    "con.close()"
   ]
  },
  {
   "cell_type": "markdown",
   "metadata": {},
   "source": [
    "## Create the player stats\n",
    "The db is strange in that it cannot show trades between teams and only updates to the most recent roster; we might have to do some manual investigation on that front."
   ]
  },
  {
   "cell_type": "code",
   "execution_count": 88,
   "metadata": {},
   "outputs": [
    {
     "name": "stderr",
     "output_type": "stream",
     "text": [
      "/Users/tstuessi/anaconda3/envs/ff_analysis/lib/python3.6/site-packages/pandas/core/frame.py:6211: FutureWarning: Sorting because non-concatenation axis is not aligned. A future version\n",
      "of pandas will change to not sort by default.\n",
      "\n",
      "To accept the future behavior, pass 'sort=False'.\n",
      "\n",
      "To retain the current behavior and silence the warning, pass 'sort=True'.\n",
      "\n",
      "  sort=sort)\n"
     ]
    }
   ],
   "source": [
    "con = sql.Connection(\"/Users/tstuessi/Dev/ff-analysis/fantasyfootball.db\")\n",
    "for year in range(2014, 2018, 1):\n",
    "    year_df = pd.DataFrame()\n",
    "    i = 0\n",
    "    for week in range(1,18, 1):\n",
    "        games = nfl.games(year, week=week)\n",
    "        players = nfl.combine_game_stats(games)\n",
    "        \n",
    "        dict_list = {}\n",
    "        for p in players:\n",
    "            tmp_dict = p.__dict__\n",
    "            tmp_dict[\"position\"] = p.__dict__[\"player\"].position\n",
    "            tmp_dict.pop(\"_stats\", None)\n",
    "            tmp_dict.pop(\"player\", None)\n",
    "            dict_list[i] = tmp_dict\n",
    "            i += 1\n",
    "        \n",
    "        df = pd.DataFrame.from_dict(dict_list, orient=\"index\")\n",
    "        df[\"week\"] = week\n",
    "        year_df = year_df.append(df)\n",
    "    \n",
    "    year_df.fillna(0).to_sql(\"PLAYER_WEEKLY_STATS_YEAR_{}\".format(year), con, if_exists=\"replace\", index=False)\n",
    "con.close()"
   ]
  },
  {
   "cell_type": "markdown",
   "metadata": {},
   "source": [
    "## Create team position stats"
   ]
  },
  {
   "cell_type": "code",
   "execution_count": 191,
   "metadata": {},
   "outputs": [
    {
     "name": "stderr",
     "output_type": "stream",
     "text": [
      "/Users/tstuessi/anaconda3/envs/ff_analysis/lib/python3.6/site-packages/ipykernel_launcher.py:7: FutureWarning: '.reindex_axis' is deprecated and will be removed in a future version. Use '.reindex' instead.\n",
      "  import sys\n"
     ]
    }
   ],
   "source": [
    "con = sql.Connection(\"/Users/tstuessi/Dev/ff-analysis/fantasyfootball.db\")\n",
    "for year in range(2014, 2018, 1):\n",
    "    week_by_week_df = pd.read_sql(\"SELECT * FROM PLAYER_WEEKLY_STATS_YEAR_{}\".format(year), con, index_col=\"playerid\")\n",
    "    grouped = week_by_week_df.drop(\"week\", axis=1).groupby([\"team\", \"position\"]).sum()\n",
    "    unstacked = grouped.unstack()\n",
    "    unstacked.columns = unstacked.columns.map(\"{0[1]}_{0[0]}\".format)\n",
    "    s_un = unstacked.reindex_axis(sorted(unstacked.columns),axis=1)\n",
    "    s_un.fillna(0).to_sql(\"TEAM_POSITION_STATS_{}\".format(year), con, index=True, index_label=\"team\", if_exists=\"replace\")\n",
    "con.close()"
   ]
  },
  {
   "cell_type": "code",
   "execution_count": 190,
   "metadata": {},
   "outputs": [
    {
     "name": "stderr",
     "output_type": "stream",
     "text": [
      "/Users/tstuessi/anaconda3/envs/ff_analysis/lib/python3.6/site-packages/ipykernel_launcher.py:12: FutureWarning: '.reindex_axis' is deprecated and will be removed in a future version. Use '.reindex' instead.\n",
      "  if sys.path[0] == '':\n",
      "/Users/tstuessi/anaconda3/envs/ff_analysis/lib/python3.6/site-packages/pandas/core/series.py:851: FutureWarning: \n",
      "Passing list-likes to .loc or [] with any missing label will raise\n",
      "KeyError in the future, you can use .reindex() as an alternative.\n",
      "\n",
      "See the documentation here:\n",
      "https://pandas.pydata.org/pandas-docs/stable/indexing.html#deprecate-loc-reindex-listlike\n",
      "  return self.loc[key]\n"
     ]
    }
   ],
   "source": [
    "# I bet we can do a bit better than just summing up the total things -- that's not a good measurement.\n",
    "# let's do stats sums for each position for each player; this will be easier to do in pandas.\n",
    "con = sql.Connection(\"/Users/tstuessi/Dev/ff-analysis/fantasyfootball.db\")\n",
    "for year in range(2014, 2018, 1):\n",
    "    week_by_week_df = pd.read_sql(\"SELECT * FROM PLAYER_WEEKLY_STATS_YEAR_{}\".format(year), con, index_col=\"playerid\")\n",
    "    per_player_totals_df = week_by_week_df.drop([\"week\"], axis=1).groupby([\"playerid\", \"team\", \"position\"]).sum().reset_index()\n",
    "\n",
    "        # grab the team stats\n",
    "    team_stats = week_by_week_df.drop(\"week\", axis=1).groupby([\"team\", \"position\"]).sum()\n",
    "    unstacked = team_stats.unstack()\n",
    "    unstacked.columns = unstacked.columns.map(\"{0[1]}_{0[0]}\".format)\n",
    "    s_un = unstacked.reindex_axis(sorted(unstacked.columns),axis=1)\n",
    "        # join these team stats\n",
    "    joined_df = per_player_totals_df.merge(s_un, left_on=\"team\", right_index=True)\n",
    "    joined_df.fillna(0, inplace=True)\n",
    "\n",
    "    for i, row in joined_df.iterrows():\n",
    "        team = row[\"team\"]\n",
    "        position = row[\"position\"]\n",
    "\n",
    "        column_list = [x for x in row.index.values if x.startswith(\"{}_\".format(position))]\n",
    "        if len(column_list) == 0:\n",
    "            continue\n",
    "        orig_list = [x.replace(\"{}_\".format(position), \"\") for x in column_list]\n",
    "\n",
    "        players_stats = row[orig_list]\n",
    "        team_stats = row[column_list]\n",
    "        #print((team_stats - players_stats))\n",
    "\n",
    "        row.loc[column_list] = team_stats - players_stats\n",
    "    joined_df.to_sql(\"FULL_YEAR_PLAYER_AND_TEAM_STATS_{}\".format(year), con, index=False)\n",
    "\n",
    "con.close()"
   ]
  },
  {
   "cell_type": "code",
   "execution_count": 188,
   "metadata": {},
   "outputs": [
    {
     "name": "stderr",
     "output_type": "stream",
     "text": [
      "/Users/tstuessi/anaconda3/envs/ff_analysis/lib/python3.6/site-packages/ipykernel_launcher.py:12: FutureWarning: '.reindex_axis' is deprecated and will be removed in a future version. Use '.reindex' instead.\n",
      "  if sys.path[0] == '':\n",
      "/Users/tstuessi/anaconda3/envs/ff_analysis/lib/python3.6/site-packages/pandas/core/series.py:851: FutureWarning: \n",
      "Passing list-likes to .loc or [] with any missing label will raise\n",
      "KeyError in the future, you can use .reindex() as an alternative.\n",
      "\n",
      "See the documentation here:\n",
      "https://pandas.pydata.org/pandas-docs/stable/indexing.html#deprecate-loc-reindex-listlike\n",
      "  return self.loc[key]\n"
     ]
    },
    {
     "data": {
      "text/plain": [
       "playerid             00-0004091\n",
       "team                        ARI\n",
       "position                      K\n",
       "defense_ast                   0\n",
       "defense_ffum                  0\n",
       "defense_int                   0\n",
       "defense_sk                    0\n",
       "defense_tkl                   0\n",
       "fumbles_lost                  0\n",
       "fumbles_rcv                   0\n",
       "fumbles_tot                   0\n",
       "fumbles_trcv                  0\n",
       "fumbles_yds                   0\n",
       "games                        16\n",
       "home                          8\n",
       "kicking_fga                  38\n",
       "kicking_fgm                  32\n",
       "kicking_fgyds               526\n",
       "kicking_totpfg               96\n",
       "kicking_xpa                  24\n",
       "kicking_xpb                   2\n",
       "kicking_xpmade               23\n",
       "kicking_xpmissed              1\n",
       "kicking_xptot                23\n",
       "kickret_avg                   0\n",
       "kickret_lng                   0\n",
       "kickret_lngtd                 0\n",
       "kickret_ret                   0\n",
       "kickret_tds                   0\n",
       "passing_att                   0\n",
       "                        ...    \n",
       "_passing_cmp                164\n",
       "_passing_ints                 7\n",
       "_passing_tds                  9\n",
       "_passing_twopta               1\n",
       "_passing_twoptm               0\n",
       "_passing_yds               1979\n",
       "_punting_avg                  0\n",
       "_punting_i20                  0\n",
       "_punting_lng                  0\n",
       "_punting_pts                  0\n",
       "_punting_yds                  0\n",
       "_puntret_avg                 18\n",
       "_puntret_lng                 25\n",
       "_puntret_lngtd                0\n",
       "_puntret_ret                  7\n",
       "_puntret_tds                  0\n",
       "_receiving_lng              400\n",
       "_receiving_lngtd             14\n",
       "_receiving_rec               64\n",
       "_receiving_tds                1\n",
       "_receiving_twopta             0\n",
       "_receiving_twoptm             0\n",
       "_receiving_yds              654\n",
       "_rushing_att                204\n",
       "_rushing_lng                153\n",
       "_rushing_lngtd               28\n",
       "_rushing_tds                  3\n",
       "_rushing_twopta               0\n",
       "_rushing_twoptm               0\n",
       "_rushing_yds                625\n",
       "Name: 0, Length: 1200, dtype: object"
      ]
     },
     "execution_count": 188,
     "metadata": {},
     "output_type": "execute_result"
    }
   ],
   "source": [
    "joined_df.loc[0, :]\n",
    "#con.close()"
   ]
  },
  {
   "cell_type": "markdown",
   "metadata": {},
   "source": [
    "## Create Schedule Data"
   ]
  },
  {
   "cell_type": "code",
   "execution_count": 124,
   "metadata": {},
   "outputs": [
    {
     "ename": "TypeError",
     "evalue": "'NoneType' object is not iterable",
     "output_type": "error",
     "traceback": [
      "\u001b[0;31m---------------------------------------------------------------------------\u001b[0m",
      "\u001b[0;31mTypeError\u001b[0m                                 Traceback (most recent call last)",
      "\u001b[0;32m<ipython-input-124-641838d19fe9>\u001b[0m in \u001b[0;36m<module>\u001b[0;34m()\u001b[0m\n\u001b[1;32m      2\u001b[0m \u001b[0;32mfor\u001b[0m \u001b[0myear\u001b[0m \u001b[0;32min\u001b[0m \u001b[0mrange\u001b[0m\u001b[0;34m(\u001b[0m\u001b[0;36m2014\u001b[0m\u001b[0;34m,\u001b[0m \u001b[0;36m2019\u001b[0m\u001b[0;34m,\u001b[0m \u001b[0;36m1\u001b[0m\u001b[0;34m)\u001b[0m\u001b[0;34m:\u001b[0m\u001b[0;34m\u001b[0m\u001b[0m\n\u001b[1;32m      3\u001b[0m     \u001b[0mgames_dict\u001b[0m \u001b[0;34m=\u001b[0m \u001b[0;34m{\u001b[0m\u001b[0;34m}\u001b[0m\u001b[0;34m\u001b[0m\u001b[0m\n\u001b[0;32m----> 4\u001b[0;31m     \u001b[0mgames\u001b[0m \u001b[0;34m=\u001b[0m \u001b[0mnfl\u001b[0m\u001b[0;34m.\u001b[0m\u001b[0mgames\u001b[0m\u001b[0;34m(\u001b[0m\u001b[0myear\u001b[0m\u001b[0;34m)\u001b[0m\u001b[0;34m\u001b[0m\u001b[0m\n\u001b[0m\u001b[1;32m      5\u001b[0m     \u001b[0;32mfor\u001b[0m \u001b[0mi\u001b[0m \u001b[0;32min\u001b[0m \u001b[0mrange\u001b[0m\u001b[0;34m(\u001b[0m\u001b[0;36m0\u001b[0m\u001b[0;34m,\u001b[0m \u001b[0mlen\u001b[0m\u001b[0;34m(\u001b[0m\u001b[0mgames\u001b[0m\u001b[0;34m)\u001b[0m\u001b[0;34m*\u001b[0m\u001b[0;36m2\u001b[0m\u001b[0;34m,\u001b[0m \u001b[0;36m2\u001b[0m\u001b[0;34m)\u001b[0m\u001b[0;34m:\u001b[0m\u001b[0;34m\u001b[0m\u001b[0m\n\u001b[1;32m      6\u001b[0m         \u001b[0mgame\u001b[0m \u001b[0;34m=\u001b[0m \u001b[0mgames\u001b[0m\u001b[0;34m[\u001b[0m\u001b[0mi\u001b[0m \u001b[0;34m//\u001b[0m \u001b[0;36m2\u001b[0m\u001b[0;34m]\u001b[0m\u001b[0;34m\u001b[0m\u001b[0m\n",
      "\u001b[0;32m~/anaconda3/envs/ff_analysis/lib/python3.6/site-packages/nflgame/__init__.py\u001b[0m in \u001b[0;36mgames\u001b[0;34m(year, week, home, away, kind, started)\u001b[0m\n\u001b[1;32m    215\u001b[0m     \u001b[0;34m(\u001b[0m\u001b[0;32mas\u001b[0m \u001b[0mopposed\u001b[0m \u001b[0mto\u001b[0m \u001b[0mwaiting\u001b[0m \u001b[0;32mfor\u001b[0m \u001b[0ma\u001b[0m \u001b[0;36m404\u001b[0m \u001b[0merror\u001b[0m \u001b[0;32mfrom\u001b[0m \u001b[0mNFL\u001b[0m\u001b[0;34m.\u001b[0m\u001b[0mcom\u001b[0m\u001b[0;34m)\u001b[0m\u001b[0;34m.\u001b[0m\u001b[0;34m\u001b[0m\u001b[0m\n\u001b[1;32m    216\u001b[0m     \"\"\"\n\u001b[0;32m--> 217\u001b[0;31m     \u001b[0;32mreturn\u001b[0m \u001b[0mlist\u001b[0m\u001b[0;34m(\u001b[0m\u001b[0mgames_gen\u001b[0m\u001b[0;34m(\u001b[0m\u001b[0myear\u001b[0m\u001b[0;34m,\u001b[0m \u001b[0mweek\u001b[0m\u001b[0;34m,\u001b[0m \u001b[0mhome\u001b[0m\u001b[0;34m,\u001b[0m \u001b[0maway\u001b[0m\u001b[0;34m,\u001b[0m \u001b[0mkind\u001b[0m\u001b[0;34m,\u001b[0m \u001b[0mstarted\u001b[0m\u001b[0;34m)\u001b[0m\u001b[0;34m)\u001b[0m\u001b[0;34m\u001b[0m\u001b[0m\n\u001b[0m\u001b[1;32m    218\u001b[0m \u001b[0;34m\u001b[0m\u001b[0m\n\u001b[1;32m    219\u001b[0m \u001b[0;34m\u001b[0m\u001b[0m\n",
      "\u001b[0;31mTypeError\u001b[0m: 'NoneType' object is not iterable"
     ]
    }
   ],
   "source": [
    "con = sql.Connection(\"/Users/tstuessi/Dev/ff-analysis/fantasyfootball.db\")\n",
    "for year in range(2014, 2019, 1):\n",
    "    games_dict = {}\n",
    "    games = nfl.games(year)\n",
    "    for i in range(0, len(games)*2, 2):\n",
    "        game = games[i // 2]\n",
    "        games_dict[i] = {\"team\": game.home,\n",
    "                         \"week\": game.schedule[\"week\"],\n",
    "                         \"is_home\": True,\n",
    "                         \"opp\": game.away,\n",
    "                         \"team_score\": game.score_home,\n",
    "                         \"opp_score\": game.score_away,\n",
    "                         \"month\": game.schedule[\"month\"],\n",
    "                         \"wday\": game.schedule[\"wday\"]\n",
    "                        }\n",
    "        games_dict[i+1] = {\"team\": game.away,\n",
    "                           \"week\": game.schedule[\"week\"],\n",
    "                           \"is_home\": False,\n",
    "                           \"opp\": game.home,\n",
    "                           \"team_score\": game.score_away,\n",
    "                           \"opp_score\": game.score_home,\n",
    "                           \"month\": game.schedule[\"month\"],\n",
    "                           \"wday\": game.schedule[\"wday\"]\n",
    "                          }\n",
    "                           \n",
    "    df = pd.DataFrame.from_dict(games_dict, orient=\"index\")\n",
    "    df.to_sql(\"SCHED_YEAR_{}\".format(year), con, index=False)\n",
    "    \n",
    "    \n",
    "con.close()"
   ]
  },
  {
   "cell_type": "code",
   "execution_count": null,
   "metadata": {},
   "outputs": [],
   "source": []
  }
 ],
 "metadata": {
  "kernelspec": {
   "display_name": "Python 3",
   "language": "python",
   "name": "python3"
  },
  "language_info": {
   "codemirror_mode": {
    "name": "ipython",
    "version": 3
   },
   "file_extension": ".py",
   "mimetype": "text/x-python",
   "name": "python",
   "nbconvert_exporter": "python",
   "pygments_lexer": "ipython3",
   "version": "3.6.6"
  }
 },
 "nbformat": 4,
 "nbformat_minor": 2
}
